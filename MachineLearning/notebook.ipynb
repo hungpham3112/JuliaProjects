{
 "cells": [
  {
   "cell_type": "code",
   "execution_count": 16,
   "id": "36abfe16",
   "metadata": {},
   "outputs": [],
   "source": [
    "using DataFrames, CSV"
   ]
  },
  {
   "cell_type": "code",
   "execution_count": 17,
   "id": "4a2eed38",
   "metadata": {},
   "outputs": [
    {
     "data": {
      "text/html": [
       "<div><div style = \"float: left;\"><span>545×13 DataFrame</span></div><div style = \"float: right;\"><span style = \"font-style: italic;\">520 rows omitted</span></div><div style = \"clear: both;\"></div></div><div class = \"data-frame\" style = \"overflow-x: scroll;\"><table class = \"data-frame\" style = \"margin-bottom: 6px;\"><thead><tr class = \"header\"><th class = \"rowNumber\" style = \"font-weight: bold; text-align: right;\">Row</th><th style = \"text-align: left;\">price</th><th style = \"text-align: left;\">area</th><th style = \"text-align: left;\">bedrooms</th><th style = \"text-align: left;\">bathrooms</th><th style = \"text-align: left;\">stories</th><th style = \"text-align: left;\">mainroad</th><th style = \"text-align: left;\">guestroom</th><th style = \"text-align: left;\">basement</th><th style = \"text-align: left;\">hotwaterheating</th><th style = \"text-align: left;\">airconditioning</th><th style = \"text-align: left;\">parking</th><th style = \"text-align: left;\">prefarea</th><th style = \"text-align: left;\">furnishingstatus</th></tr><tr class = \"subheader headerLastRow\"><th class = \"rowNumber\" style = \"font-weight: bold; text-align: right;\"></th><th title = \"Int64\" style = \"text-align: left;\">Int64</th><th title = \"Int64\" style = \"text-align: left;\">Int64</th><th title = \"Int64\" style = \"text-align: left;\">Int64</th><th title = \"Int64\" style = \"text-align: left;\">Int64</th><th title = \"Int64\" style = \"text-align: left;\">Int64</th><th title = \"String3\" style = \"text-align: left;\">String3</th><th title = \"String3\" style = \"text-align: left;\">String3</th><th title = \"String3\" style = \"text-align: left;\">String3</th><th title = \"String3\" style = \"text-align: left;\">String3</th><th title = \"String3\" style = \"text-align: left;\">String3</th><th title = \"Int64\" style = \"text-align: left;\">Int64</th><th title = \"String3\" style = \"text-align: left;\">String3</th><th title = \"String15\" style = \"text-align: left;\">String15</th></tr></thead><tbody><tr><td class = \"rowNumber\" style = \"font-weight: bold; text-align: right;\">1</td><td style = \"text-align: right;\">13300000</td><td style = \"text-align: right;\">7420</td><td style = \"text-align: right;\">4</td><td style = \"text-align: right;\">2</td><td style = \"text-align: right;\">3</td><td style = \"text-align: left;\">yes</td><td style = \"text-align: left;\">no</td><td style = \"text-align: left;\">no</td><td style = \"text-align: left;\">no</td><td style = \"text-align: left;\">yes</td><td style = \"text-align: right;\">2</td><td style = \"text-align: left;\">yes</td><td style = \"text-align: left;\">furnished</td></tr><tr><td class = \"rowNumber\" style = \"font-weight: bold; text-align: right;\">2</td><td style = \"text-align: right;\">12250000</td><td style = \"text-align: right;\">8960</td><td style = \"text-align: right;\">4</td><td style = \"text-align: right;\">4</td><td style = \"text-align: right;\">4</td><td style = \"text-align: left;\">yes</td><td style = \"text-align: left;\">no</td><td style = \"text-align: left;\">no</td><td style = \"text-align: left;\">no</td><td style = \"text-align: left;\">yes</td><td style = \"text-align: right;\">3</td><td style = \"text-align: left;\">no</td><td style = \"text-align: left;\">furnished</td></tr><tr><td class = \"rowNumber\" style = \"font-weight: bold; text-align: right;\">3</td><td style = \"text-align: right;\">12250000</td><td style = \"text-align: right;\">9960</td><td style = \"text-align: right;\">3</td><td style = \"text-align: right;\">2</td><td style = \"text-align: right;\">2</td><td style = \"text-align: left;\">yes</td><td style = \"text-align: left;\">no</td><td style = \"text-align: left;\">yes</td><td style = \"text-align: left;\">no</td><td style = \"text-align: left;\">no</td><td style = \"text-align: right;\">2</td><td style = \"text-align: left;\">yes</td><td style = \"text-align: left;\">semi-furnished</td></tr><tr><td class = \"rowNumber\" style = \"font-weight: bold; text-align: right;\">4</td><td style = \"text-align: right;\">12215000</td><td style = \"text-align: right;\">7500</td><td style = \"text-align: right;\">4</td><td style = \"text-align: right;\">2</td><td style = \"text-align: right;\">2</td><td style = \"text-align: left;\">yes</td><td style = \"text-align: left;\">no</td><td style = \"text-align: left;\">yes</td><td style = \"text-align: left;\">no</td><td style = \"text-align: left;\">yes</td><td style = \"text-align: right;\">3</td><td style = \"text-align: left;\">yes</td><td style = \"text-align: left;\">furnished</td></tr><tr><td class = \"rowNumber\" style = \"font-weight: bold; text-align: right;\">5</td><td style = \"text-align: right;\">11410000</td><td style = \"text-align: right;\">7420</td><td style = \"text-align: right;\">4</td><td style = \"text-align: right;\">1</td><td style = \"text-align: right;\">2</td><td style = \"text-align: left;\">yes</td><td style = \"text-align: left;\">yes</td><td style = \"text-align: left;\">yes</td><td style = \"text-align: left;\">no</td><td style = \"text-align: left;\">yes</td><td style = \"text-align: right;\">2</td><td style = \"text-align: left;\">no</td><td style = \"text-align: left;\">furnished</td></tr><tr><td class = \"rowNumber\" style = \"font-weight: bold; text-align: right;\">6</td><td style = \"text-align: right;\">10850000</td><td style = \"text-align: right;\">7500</td><td style = \"text-align: right;\">3</td><td style = \"text-align: right;\">3</td><td style = \"text-align: right;\">1</td><td style = \"text-align: left;\">yes</td><td style = \"text-align: left;\">no</td><td style = \"text-align: left;\">yes</td><td style = \"text-align: left;\">no</td><td style = \"text-align: left;\">yes</td><td style = \"text-align: right;\">2</td><td style = \"text-align: left;\">yes</td><td style = \"text-align: left;\">semi-furnished</td></tr><tr><td class = \"rowNumber\" style = \"font-weight: bold; text-align: right;\">7</td><td style = \"text-align: right;\">10150000</td><td style = \"text-align: right;\">8580</td><td style = \"text-align: right;\">4</td><td style = \"text-align: right;\">3</td><td style = \"text-align: right;\">4</td><td style = \"text-align: left;\">yes</td><td style = \"text-align: left;\">no</td><td style = \"text-align: left;\">no</td><td style = \"text-align: left;\">no</td><td style = \"text-align: left;\">yes</td><td style = \"text-align: right;\">2</td><td style = \"text-align: left;\">yes</td><td style = \"text-align: left;\">semi-furnished</td></tr><tr><td class = \"rowNumber\" style = \"font-weight: bold; text-align: right;\">8</td><td style = \"text-align: right;\">10150000</td><td style = \"text-align: right;\">16200</td><td style = \"text-align: right;\">5</td><td style = \"text-align: right;\">3</td><td style = \"text-align: right;\">2</td><td style = \"text-align: left;\">yes</td><td style = \"text-align: left;\">no</td><td style = \"text-align: left;\">no</td><td style = \"text-align: left;\">no</td><td style = \"text-align: left;\">no</td><td style = \"text-align: right;\">0</td><td style = \"text-align: left;\">no</td><td style = \"text-align: left;\">unfurnished</td></tr><tr><td class = \"rowNumber\" style = \"font-weight: bold; text-align: right;\">9</td><td style = \"text-align: right;\">9870000</td><td style = \"text-align: right;\">8100</td><td style = \"text-align: right;\">4</td><td style = \"text-align: right;\">1</td><td style = \"text-align: right;\">2</td><td style = \"text-align: left;\">yes</td><td style = \"text-align: left;\">yes</td><td style = \"text-align: left;\">yes</td><td style = \"text-align: left;\">no</td><td style = \"text-align: left;\">yes</td><td style = \"text-align: right;\">2</td><td style = \"text-align: left;\">yes</td><td style = \"text-align: left;\">furnished</td></tr><tr><td class = \"rowNumber\" style = \"font-weight: bold; text-align: right;\">10</td><td style = \"text-align: right;\">9800000</td><td style = \"text-align: right;\">5750</td><td style = \"text-align: right;\">3</td><td style = \"text-align: right;\">2</td><td style = \"text-align: right;\">4</td><td style = \"text-align: left;\">yes</td><td style = \"text-align: left;\">yes</td><td style = \"text-align: left;\">no</td><td style = \"text-align: left;\">no</td><td style = \"text-align: left;\">yes</td><td style = \"text-align: right;\">1</td><td style = \"text-align: left;\">yes</td><td style = \"text-align: left;\">unfurnished</td></tr><tr><td class = \"rowNumber\" style = \"font-weight: bold; text-align: right;\">11</td><td style = \"text-align: right;\">9800000</td><td style = \"text-align: right;\">13200</td><td style = \"text-align: right;\">3</td><td style = \"text-align: right;\">1</td><td style = \"text-align: right;\">2</td><td style = \"text-align: left;\">yes</td><td style = \"text-align: left;\">no</td><td style = \"text-align: left;\">yes</td><td style = \"text-align: left;\">no</td><td style = \"text-align: left;\">yes</td><td style = \"text-align: right;\">2</td><td style = \"text-align: left;\">yes</td><td style = \"text-align: left;\">furnished</td></tr><tr><td class = \"rowNumber\" style = \"font-weight: bold; text-align: right;\">12</td><td style = \"text-align: right;\">9681000</td><td style = \"text-align: right;\">6000</td><td style = \"text-align: right;\">4</td><td style = \"text-align: right;\">3</td><td style = \"text-align: right;\">2</td><td style = \"text-align: left;\">yes</td><td style = \"text-align: left;\">yes</td><td style = \"text-align: left;\">yes</td><td style = \"text-align: left;\">yes</td><td style = \"text-align: left;\">no</td><td style = \"text-align: right;\">2</td><td style = \"text-align: left;\">no</td><td style = \"text-align: left;\">semi-furnished</td></tr><tr><td class = \"rowNumber\" style = \"font-weight: bold; text-align: right;\">13</td><td style = \"text-align: right;\">9310000</td><td style = \"text-align: right;\">6550</td><td style = \"text-align: right;\">4</td><td style = \"text-align: right;\">2</td><td style = \"text-align: right;\">2</td><td style = \"text-align: left;\">yes</td><td style = \"text-align: left;\">no</td><td style = \"text-align: left;\">no</td><td style = \"text-align: left;\">no</td><td style = \"text-align: left;\">yes</td><td style = \"text-align: right;\">1</td><td style = \"text-align: left;\">yes</td><td style = \"text-align: left;\">semi-furnished</td></tr><tr><td style = \"text-align: right;\">&vellip;</td><td style = \"text-align: right;\">&vellip;</td><td style = \"text-align: right;\">&vellip;</td><td style = \"text-align: right;\">&vellip;</td><td style = \"text-align: right;\">&vellip;</td><td style = \"text-align: right;\">&vellip;</td><td style = \"text-align: right;\">&vellip;</td><td style = \"text-align: right;\">&vellip;</td><td style = \"text-align: right;\">&vellip;</td><td style = \"text-align: right;\">&vellip;</td><td style = \"text-align: right;\">&vellip;</td><td style = \"text-align: right;\">&vellip;</td><td style = \"text-align: right;\">&vellip;</td><td style = \"text-align: right;\">&vellip;</td></tr><tr><td class = \"rowNumber\" style = \"font-weight: bold; text-align: right;\">534</td><td style = \"text-align: right;\">2100000</td><td style = \"text-align: right;\">2400</td><td style = \"text-align: right;\">3</td><td style = \"text-align: right;\">1</td><td style = \"text-align: right;\">2</td><td style = \"text-align: left;\">yes</td><td style = \"text-align: left;\">no</td><td style = \"text-align: left;\">no</td><td style = \"text-align: left;\">no</td><td style = \"text-align: left;\">no</td><td style = \"text-align: right;\">0</td><td style = \"text-align: left;\">no</td><td style = \"text-align: left;\">unfurnished</td></tr><tr><td class = \"rowNumber\" style = \"font-weight: bold; text-align: right;\">535</td><td style = \"text-align: right;\">2100000</td><td style = \"text-align: right;\">3000</td><td style = \"text-align: right;\">4</td><td style = \"text-align: right;\">1</td><td style = \"text-align: right;\">2</td><td style = \"text-align: left;\">yes</td><td style = \"text-align: left;\">no</td><td style = \"text-align: left;\">no</td><td style = \"text-align: left;\">no</td><td style = \"text-align: left;\">no</td><td style = \"text-align: right;\">0</td><td style = \"text-align: left;\">no</td><td style = \"text-align: left;\">unfurnished</td></tr><tr><td class = \"rowNumber\" style = \"font-weight: bold; text-align: right;\">536</td><td style = \"text-align: right;\">2100000</td><td style = \"text-align: right;\">3360</td><td style = \"text-align: right;\">2</td><td style = \"text-align: right;\">1</td><td style = \"text-align: right;\">1</td><td style = \"text-align: left;\">yes</td><td style = \"text-align: left;\">no</td><td style = \"text-align: left;\">no</td><td style = \"text-align: left;\">no</td><td style = \"text-align: left;\">no</td><td style = \"text-align: right;\">1</td><td style = \"text-align: left;\">no</td><td style = \"text-align: left;\">unfurnished</td></tr><tr><td class = \"rowNumber\" style = \"font-weight: bold; text-align: right;\">537</td><td style = \"text-align: right;\">1960000</td><td style = \"text-align: right;\">3420</td><td style = \"text-align: right;\">5</td><td style = \"text-align: right;\">1</td><td style = \"text-align: right;\">2</td><td style = \"text-align: left;\">no</td><td style = \"text-align: left;\">no</td><td style = \"text-align: left;\">no</td><td style = \"text-align: left;\">no</td><td style = \"text-align: left;\">no</td><td style = \"text-align: right;\">0</td><td style = \"text-align: left;\">no</td><td style = \"text-align: left;\">unfurnished</td></tr><tr><td class = \"rowNumber\" style = \"font-weight: bold; text-align: right;\">538</td><td style = \"text-align: right;\">1890000</td><td style = \"text-align: right;\">1700</td><td style = \"text-align: right;\">3</td><td style = \"text-align: right;\">1</td><td style = \"text-align: right;\">2</td><td style = \"text-align: left;\">yes</td><td style = \"text-align: left;\">no</td><td style = \"text-align: left;\">no</td><td style = \"text-align: left;\">no</td><td style = \"text-align: left;\">no</td><td style = \"text-align: right;\">0</td><td style = \"text-align: left;\">no</td><td style = \"text-align: left;\">unfurnished</td></tr><tr><td class = \"rowNumber\" style = \"font-weight: bold; text-align: right;\">539</td><td style = \"text-align: right;\">1890000</td><td style = \"text-align: right;\">3649</td><td style = \"text-align: right;\">2</td><td style = \"text-align: right;\">1</td><td style = \"text-align: right;\">1</td><td style = \"text-align: left;\">yes</td><td style = \"text-align: left;\">no</td><td style = \"text-align: left;\">no</td><td style = \"text-align: left;\">no</td><td style = \"text-align: left;\">no</td><td style = \"text-align: right;\">0</td><td style = \"text-align: left;\">no</td><td style = \"text-align: left;\">unfurnished</td></tr><tr><td class = \"rowNumber\" style = \"font-weight: bold; text-align: right;\">540</td><td style = \"text-align: right;\">1855000</td><td style = \"text-align: right;\">2990</td><td style = \"text-align: right;\">2</td><td style = \"text-align: right;\">1</td><td style = \"text-align: right;\">1</td><td style = \"text-align: left;\">no</td><td style = \"text-align: left;\">no</td><td style = \"text-align: left;\">no</td><td style = \"text-align: left;\">no</td><td style = \"text-align: left;\">no</td><td style = \"text-align: right;\">1</td><td style = \"text-align: left;\">no</td><td style = \"text-align: left;\">unfurnished</td></tr><tr><td class = \"rowNumber\" style = \"font-weight: bold; text-align: right;\">541</td><td style = \"text-align: right;\">1820000</td><td style = \"text-align: right;\">3000</td><td style = \"text-align: right;\">2</td><td style = \"text-align: right;\">1</td><td style = \"text-align: right;\">1</td><td style = \"text-align: left;\">yes</td><td style = \"text-align: left;\">no</td><td style = \"text-align: left;\">yes</td><td style = \"text-align: left;\">no</td><td style = \"text-align: left;\">no</td><td style = \"text-align: right;\">2</td><td style = \"text-align: left;\">no</td><td style = \"text-align: left;\">unfurnished</td></tr><tr><td class = \"rowNumber\" style = \"font-weight: bold; text-align: right;\">542</td><td style = \"text-align: right;\">1767150</td><td style = \"text-align: right;\">2400</td><td style = \"text-align: right;\">3</td><td style = \"text-align: right;\">1</td><td style = \"text-align: right;\">1</td><td style = \"text-align: left;\">no</td><td style = \"text-align: left;\">no</td><td style = \"text-align: left;\">no</td><td style = \"text-align: left;\">no</td><td style = \"text-align: left;\">no</td><td style = \"text-align: right;\">0</td><td style = \"text-align: left;\">no</td><td style = \"text-align: left;\">semi-furnished</td></tr><tr><td class = \"rowNumber\" style = \"font-weight: bold; text-align: right;\">543</td><td style = \"text-align: right;\">1750000</td><td style = \"text-align: right;\">3620</td><td style = \"text-align: right;\">2</td><td style = \"text-align: right;\">1</td><td style = \"text-align: right;\">1</td><td style = \"text-align: left;\">yes</td><td style = \"text-align: left;\">no</td><td style = \"text-align: left;\">no</td><td style = \"text-align: left;\">no</td><td style = \"text-align: left;\">no</td><td style = \"text-align: right;\">0</td><td style = \"text-align: left;\">no</td><td style = \"text-align: left;\">unfurnished</td></tr><tr><td class = \"rowNumber\" style = \"font-weight: bold; text-align: right;\">544</td><td style = \"text-align: right;\">1750000</td><td style = \"text-align: right;\">2910</td><td style = \"text-align: right;\">3</td><td style = \"text-align: right;\">1</td><td style = \"text-align: right;\">1</td><td style = \"text-align: left;\">no</td><td style = \"text-align: left;\">no</td><td style = \"text-align: left;\">no</td><td style = \"text-align: left;\">no</td><td style = \"text-align: left;\">no</td><td style = \"text-align: right;\">0</td><td style = \"text-align: left;\">no</td><td style = \"text-align: left;\">furnished</td></tr><tr><td class = \"rowNumber\" style = \"font-weight: bold; text-align: right;\">545</td><td style = \"text-align: right;\">1750000</td><td style = \"text-align: right;\">3850</td><td style = \"text-align: right;\">3</td><td style = \"text-align: right;\">1</td><td style = \"text-align: right;\">2</td><td style = \"text-align: left;\">yes</td><td style = \"text-align: left;\">no</td><td style = \"text-align: left;\">no</td><td style = \"text-align: left;\">no</td><td style = \"text-align: left;\">no</td><td style = \"text-align: right;\">0</td><td style = \"text-align: left;\">no</td><td style = \"text-align: left;\">unfurnished</td></tr></tbody></table></div>"
      ],
      "text/latex": [
       "\\begin{tabular}{r|cccccccccc}\n",
       "\t& price & area & bedrooms & bathrooms & stories & mainroad & guestroom & basement & hotwaterheating & \\\\\n",
       "\t\\hline\n",
       "\t& Int64 & Int64 & Int64 & Int64 & Int64 & String3 & String3 & String3 & String3 & \\\\\n",
       "\t\\hline\n",
       "\t1 & 13300000 & 7420 & 4 & 2 & 3 & yes & no & no & no & $\\dots$ \\\\\n",
       "\t2 & 12250000 & 8960 & 4 & 4 & 4 & yes & no & no & no & $\\dots$ \\\\\n",
       "\t3 & 12250000 & 9960 & 3 & 2 & 2 & yes & no & yes & no & $\\dots$ \\\\\n",
       "\t4 & 12215000 & 7500 & 4 & 2 & 2 & yes & no & yes & no & $\\dots$ \\\\\n",
       "\t5 & 11410000 & 7420 & 4 & 1 & 2 & yes & yes & yes & no & $\\dots$ \\\\\n",
       "\t6 & 10850000 & 7500 & 3 & 3 & 1 & yes & no & yes & no & $\\dots$ \\\\\n",
       "\t7 & 10150000 & 8580 & 4 & 3 & 4 & yes & no & no & no & $\\dots$ \\\\\n",
       "\t8 & 10150000 & 16200 & 5 & 3 & 2 & yes & no & no & no & $\\dots$ \\\\\n",
       "\t9 & 9870000 & 8100 & 4 & 1 & 2 & yes & yes & yes & no & $\\dots$ \\\\\n",
       "\t10 & 9800000 & 5750 & 3 & 2 & 4 & yes & yes & no & no & $\\dots$ \\\\\n",
       "\t11 & 9800000 & 13200 & 3 & 1 & 2 & yes & no & yes & no & $\\dots$ \\\\\n",
       "\t12 & 9681000 & 6000 & 4 & 3 & 2 & yes & yes & yes & yes & $\\dots$ \\\\\n",
       "\t13 & 9310000 & 6550 & 4 & 2 & 2 & yes & no & no & no & $\\dots$ \\\\\n",
       "\t14 & 9240000 & 3500 & 4 & 2 & 2 & yes & no & no & yes & $\\dots$ \\\\\n",
       "\t15 & 9240000 & 7800 & 3 & 2 & 2 & yes & no & no & no & $\\dots$ \\\\\n",
       "\t16 & 9100000 & 6000 & 4 & 1 & 2 & yes & no & yes & no & $\\dots$ \\\\\n",
       "\t17 & 9100000 & 6600 & 4 & 2 & 2 & yes & yes & yes & no & $\\dots$ \\\\\n",
       "\t18 & 8960000 & 8500 & 3 & 2 & 4 & yes & no & no & no & $\\dots$ \\\\\n",
       "\t19 & 8890000 & 4600 & 3 & 2 & 2 & yes & yes & no & no & $\\dots$ \\\\\n",
       "\t20 & 8855000 & 6420 & 3 & 2 & 2 & yes & no & no & no & $\\dots$ \\\\\n",
       "\t21 & 8750000 & 4320 & 3 & 1 & 2 & yes & no & yes & yes & $\\dots$ \\\\\n",
       "\t22 & 8680000 & 7155 & 3 & 2 & 1 & yes & yes & yes & no & $\\dots$ \\\\\n",
       "\t23 & 8645000 & 8050 & 3 & 1 & 1 & yes & yes & yes & no & $\\dots$ \\\\\n",
       "\t24 & 8645000 & 4560 & 3 & 2 & 2 & yes & yes & yes & no & $\\dots$ \\\\\n",
       "\t25 & 8575000 & 8800 & 3 & 2 & 2 & yes & no & no & no & $\\dots$ \\\\\n",
       "\t26 & 8540000 & 6540 & 4 & 2 & 2 & yes & yes & yes & no & $\\dots$ \\\\\n",
       "\t27 & 8463000 & 6000 & 3 & 2 & 4 & yes & yes & yes & no & $\\dots$ \\\\\n",
       "\t28 & 8400000 & 8875 & 3 & 1 & 1 & yes & no & no & no & $\\dots$ \\\\\n",
       "\t29 & 8400000 & 7950 & 5 & 2 & 2 & yes & no & yes & yes & $\\dots$ \\\\\n",
       "\t30 & 8400000 & 5500 & 4 & 2 & 2 & yes & no & yes & no & $\\dots$ \\\\\n",
       "\t$\\dots$ & $\\dots$ & $\\dots$ & $\\dots$ & $\\dots$ & $\\dots$ & $\\dots$ & $\\dots$ & $\\dots$ & $\\dots$ &  \\\\\n",
       "\\end{tabular}\n"
      ],
      "text/plain": [
       "\u001b[1m545×13 DataFrame\u001b[0m\n",
       "\u001b[1m Row \u001b[0m│\u001b[1m price    \u001b[0m\u001b[1m area  \u001b[0m\u001b[1m bedrooms \u001b[0m\u001b[1m bathrooms \u001b[0m\u001b[1m stories \u001b[0m\u001b[1m mainroad \u001b[0m\u001b[1m guestroom \u001b[0m\u001b[1m bas\u001b[0m ⋯\n",
       "     │\u001b[90m Int64    \u001b[0m\u001b[90m Int64 \u001b[0m\u001b[90m Int64    \u001b[0m\u001b[90m Int64     \u001b[0m\u001b[90m Int64   \u001b[0m\u001b[90m String3  \u001b[0m\u001b[90m String3   \u001b[0m\u001b[90m Str\u001b[0m ⋯\n",
       "─────┼──────────────────────────────────────────────────────────────────────────\n",
       "   1 │ 13300000   7420         4          2        3  yes       no         no  ⋯\n",
       "   2 │ 12250000   8960         4          4        4  yes       no         no\n",
       "   3 │ 12250000   9960         3          2        2  yes       no         yes\n",
       "   4 │ 12215000   7500         4          2        2  yes       no         yes\n",
       "   5 │ 11410000   7420         4          1        2  yes       yes        yes ⋯\n",
       "   6 │ 10850000   7500         3          3        1  yes       no         yes\n",
       "   7 │ 10150000   8580         4          3        4  yes       no         no\n",
       "   8 │ 10150000  16200         5          3        2  yes       no         no\n",
       "   9 │  9870000   8100         4          1        2  yes       yes        yes ⋯\n",
       "  10 │  9800000   5750         3          2        4  yes       yes        no\n",
       "  11 │  9800000  13200         3          1        2  yes       no         yes\n",
       "  ⋮  │    ⋮        ⋮       ⋮          ⋮         ⋮        ⋮          ⋮          ⋱\n",
       " 536 │  2100000   3360         2          1        1  yes       no         no\n",
       " 537 │  1960000   3420         5          1        2  no        no         no  ⋯\n",
       " 538 │  1890000   1700         3          1        2  yes       no         no\n",
       " 539 │  1890000   3649         2          1        1  yes       no         no\n",
       " 540 │  1855000   2990         2          1        1  no        no         no\n",
       " 541 │  1820000   3000         2          1        1  yes       no         yes ⋯\n",
       " 542 │  1767150   2400         3          1        1  no        no         no\n",
       " 543 │  1750000   3620         2          1        1  yes       no         no\n",
       " 544 │  1750000   2910         3          1        1  no        no         no\n",
       " 545 │  1750000   3850         3          1        2  yes       no         no  ⋯\n",
       "\u001b[36m                                                  6 columns and 524 rows omitted\u001b[0m"
      ]
     },
     "execution_count": 17,
     "metadata": {},
     "output_type": "execute_result"
    }
   ],
   "source": [
    "df = CSV.read(\"housing.csv\", DataFrame)"
   ]
  },
  {
   "cell_type": "code",
   "execution_count": 21,
   "id": "a45aac37",
   "metadata": {},
   "outputs": [
    {
     "data": {
      "text/plain": [
       "545-element Vector{Int64}:\n",
       " 13300000\n",
       " 12250000\n",
       " 12250000\n",
       " 12215000\n",
       " 11410000\n",
       " 10850000\n",
       " 10150000\n",
       " 10150000\n",
       "  9870000\n",
       "  9800000\n",
       "  9800000\n",
       "  9681000\n",
       "  9310000\n",
       "        ⋮\n",
       "  2100000\n",
       "  2100000\n",
       "  2100000\n",
       "  1960000\n",
       "  1890000\n",
       "  1890000\n",
       "  1855000\n",
       "  1820000\n",
       "  1767150\n",
       "  1750000\n",
       "  1750000\n",
       "  1750000"
      ]
     },
     "execution_count": 21,
     "metadata": {},
     "output_type": "execute_result"
    }
   ],
   "source": [
    "price = df[:, \"price\"]"
   ]
  },
  {
   "cell_type": "code",
   "execution_count": null,
   "id": "f7e713ae",
   "metadata": {},
   "outputs": [],
   "source": []
  },
  {
   "cell_type": "code",
   "execution_count": null,
   "id": "80cdae10",
   "metadata": {},
   "outputs": [],
   "source": []
  }
 ],
 "metadata": {
  "kernelspec": {
   "display_name": "Julia 1.8.5",
   "language": "julia",
   "name": "julia-1.8"
  },
  "language_info": {
   "file_extension": ".jl",
   "mimetype": "application/julia",
   "name": "julia",
   "version": "1.8.5"
  }
 },
 "nbformat": 4,
 "nbformat_minor": 5
}
